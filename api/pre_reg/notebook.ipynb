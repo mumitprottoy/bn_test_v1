{
 "cells": [
  {
   "cell_type": "code",
   "execution_count": 50,
   "id": "463d0d91",
   "metadata": {},
   "outputs": [],
   "source": [
    "import requests"
   ]
  },
  {
   "cell_type": "code",
   "execution_count": 51,
   "id": "f12100de",
   "metadata": {},
   "outputs": [],
   "source": [
    "data_url = 'https://test.bowlersnetwork.com/pre-registers-json'"
   ]
  },
  {
   "cell_type": "code",
   "execution_count": 52,
   "id": "67d38fc9",
   "metadata": {},
   "outputs": [],
   "source": [
    "raw_data = requests.get(data_url).json()['pre_registers']"
   ]
  },
  {
   "cell_type": "code",
   "execution_count": 53,
   "id": "7be99b83",
   "metadata": {},
   "outputs": [
    {
     "name": "stdout",
     "output_type": "stream",
     "text": [
      "1686\n"
     ]
    }
   ],
   "source": [
    "print(raw_data.__len__())"
   ]
  }
 ],
 "metadata": {
  "kernelspec": {
   "display_name": "Python 3",
   "language": "python",
   "name": "python3"
  },
  "language_info": {
   "codemirror_mode": {
    "name": "ipython",
    "version": 3
   },
   "file_extension": ".py",
   "mimetype": "text/x-python",
   "name": "python",
   "nbconvert_exporter": "python",
   "pygments_lexer": "ipython3",
   "version": "3.13.5"
  }
 },
 "nbformat": 4,
 "nbformat_minor": 5
}
