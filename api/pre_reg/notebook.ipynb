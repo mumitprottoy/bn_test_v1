{
 "cells": [
  {
   "cell_type": "code",
   "execution_count": 42,
   "id": "463d0d91",
   "metadata": {},
   "outputs": [],
   "source": [
    "import requests"
   ]
  },
  {
   "cell_type": "code",
   "execution_count": 43,
   "id": "f12100de",
   "metadata": {},
   "outputs": [],
   "source": [
    "data_url = 'https://test.bowlersnetwork.com/pre-registers-json'"
   ]
  },
  {
   "cell_type": "code",
   "execution_count": 44,
   "id": "67d38fc9",
   "metadata": {},
   "outputs": [],
   "source": [
    "raw_data = requests.get(data_url).json()['pre_registers']"
   ]
  },
  {
   "cell_type": "code",
   "execution_count": 45,
   "id": "7be99b83",
   "metadata": {},
   "outputs": [
    {
     "name": "stdout",
     "output_type": "stream",
     "text": [
      "3305\n"
     ]
    }
   ],
   "source": [
    "print(raw_data.__len__())"
   ]
  },
  {
   "cell_type": "code",
   "execution_count": 46,
   "id": "0b1a0725",
   "metadata": {},
   "outputs": [],
   "source": [
    "filtered_data = list()\n",
    "email_map = dict()\n",
    "\n",
    "for data in raw_data:\n",
    "    if not data['first_name'].islower():\n",
    "        date = data['registered_at'].split('T')[0]\n",
    "        email = data['email']\n",
    "        if email not in email_map:\n",
    "            email_map[email] = True\n",
    "            filtered_data.append(dict(date=date, email=email))\n"
   ]
  },
  {
   "cell_type": "code",
   "execution_count": 47,
   "id": "2a18fa77",
   "metadata": {},
   "outputs": [
    {
     "name": "stdout",
     "output_type": "stream",
     "text": [
      "1350\n"
     ]
    }
   ],
   "source": [
    "print(filtered_data.__len__())"
   ]
  },
  {
   "cell_type": "code",
   "execution_count": 48,
   "id": "00e61b1a",
   "metadata": {},
   "outputs": [],
   "source": [
    "file = open('date_email.csv', 'w', encoding='utf-8')\n",
    "file.write('date,email\\n')\n",
    "for data in filtered_data:\n",
    "    file.write(f'{data['date']},{data['email']}\\n')\n",
    "file.close()"
   ]
  },
  {
   "cell_type": "code",
   "execution_count": 49,
   "id": "c9ac24ae",
   "metadata": {},
   "outputs": [
    {
     "name": "stdout",
     "output_type": "stream",
     "text": [
      "valid: 1686\n",
      "invalid: 1619\n",
      "average valid name len: 11.788849347568208\n",
      "average invalid name len: 19.79369981470043\n"
     ]
    }
   ],
   "source": [
    "valid = invalid = 0\n",
    "valid_len = invalid_len = 0\n",
    "\n",
    "for data in raw_data:\n",
    "    is_valid = not (data['first_name'].islower())\n",
    "    # valid += int(is_valid); invalid += int(is_valid)\n",
    "    name_len = len(data['first_name']+data['last_name'])\n",
    "    if is_valid: \n",
    "        valid += 1\n",
    "        valid_len += name_len\n",
    "    else: \n",
    "        invalid += 1\n",
    "        invalid_len += name_len\n",
    "\n",
    "avg_valid_len = valid_len / valid\n",
    "avg_invalid_len = invalid_len / invalid\n",
    "\n",
    "print(f'valid: {valid}')\n",
    "print('invalid:', invalid)\n",
    "print('average valid name len:', avg_valid_len)\n",
    "print('average invalid name len:', avg_invalid_len)"
   ]
  }
 ],
 "metadata": {
  "kernelspec": {
   "display_name": "Python 3",
   "language": "python",
   "name": "python3"
  },
  "language_info": {
   "codemirror_mode": {
    "name": "ipython",
    "version": 3
   },
   "file_extension": ".py",
   "mimetype": "text/x-python",
   "name": "python",
   "nbconvert_exporter": "python",
   "pygments_lexer": "ipython3",
   "version": "3.13.5"
  }
 },
 "nbformat": 4,
 "nbformat_minor": 5
}
